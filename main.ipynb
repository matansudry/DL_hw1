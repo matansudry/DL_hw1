{
 "cells": [
  {
   "cell_type": "code",
   "execution_count": 3,
   "metadata": {},
   "outputs": [
    {
     "name": "stdout",
     "output_type": "stream",
     "text": [
      "\n",
      "\n"
     ]
    }
   ],
   "source": [
    "# import os\n",
    "# import csv\n",
    "# import numpy as np\n",
    "# import pandas as pd\n",
    "# import torch\n",
    "# import torch.nn as nn\n",
    "# import torch.nn.functional as F\n",
    "# # from src import utils\n",
    "# # from lstm import LSTM\n",
    "# # import src.pytorch_utils as ptu\n",
    "# import sklearn\n",
    "# from sklearn import preprocessing\n",
    "# from torch.autograd import Variable\n",
    "# import torchviz\n",
    "\n",
    "import torch\n",
    "import torch.nn as nn\n",
    "from matplotlib import pyplot as plt  \n",
    "import math\n",
    "\n",
    "%matplotlib inline\n",
    "%load_ext autoreload\n",
    "%autoreload 2"
   ]
  },
  {
   "cell_type": "code",
   "execution_count": 6,
   "metadata": {},
   "outputs": [],
   "source": [
    "import torchvision.datasets as dsets\n",
    "import torchvision.transforms as transforms\n",
    "batch_size = 128\n",
    "\n",
    "transform = transforms.Compose([transforms.ToTensor()])\n",
    "\n",
    "train_dataset = dsets.MNIST(root='./data', \n",
    "                            train=True, \n",
    "                            transform=transform,\n",
    "                            download=True)\n",
    "\n",
    "test_dataset = dsets.MNIST(root='./data', \n",
    "                           train=False, \n",
    "                           transform=transform)\n",
    "\n",
    "# Dataset Loader (Input Pipline)\n",
    "train_loader = torch.utils.data.DataLoader(dataset=train_dataset, \n",
    "                                           batch_size=batch_size, \n",
    "                                           shuffle=True)\n",
    "\n",
    "test_loader = torch.utils.data.DataLoader(dataset=test_dataset, \n",
    "                                          batch_size=batch_size, \n",
    "                                          shuffle=False)"
   ]
  },
  {
   "cell_type": "code",
   "execution_count": 7,
   "metadata": {},
   "outputs": [
    {
     "data": {
      "text/plain": [
       "<torch.utils.data.dataloader.DataLoader at 0x7fc17d1ebf10>"
      ]
     },
     "execution_count": 7,
     "metadata": {},
     "output_type": "execute_result"
    }
   ],
   "source": [
    "train_loader"
   ]
  },
  {
   "cell_type": "code",
   "execution_count": 8,
   "metadata": {},
   "outputs": [],
   "source": [
    "device = torch.device(\"cuda\" if torch.cuda.is_available() else \"cpu\")\n",
    "\n",
    "# ##### Utils functions \n",
    "# def sigmoid(s):\n",
    "#     return 1 / (1 + torch.exp(-s))\n",
    "\n",
    "# def sigmoidPrime(s):\n",
    "#     # derivative of sigmoid\n",
    "#     # s: sigmoid output\n",
    "#     return s * (1 - s)\n",
    "\n",
    "def softmax(s):\n",
    "    return \n",
    "\n",
    "def softmaxPrime(s):\n",
    "    return\n",
    "\n",
    "# def tanh(t):\n",
    "#     t = t.max()\n",
    "#     return torch.div(torch.exp(t) - torch.exp(-t), torch.exp(t) + torch.exp(-t))\n",
    "\n",
    "# def tanhPrime(t):\n",
    "#     # derivative of tanh\n",
    "#     # t: tanh output\n",
    "#     return 1 - t*t\n",
    "\n",
    "def ReLu(t):\n",
    "    temp = torch.where(t > 0, t, 0)\n",
    "    return temp\n",
    "\n",
    "def ReLuPrime(t):\n",
    "    # derivative of tanh\n",
    "    # t: tanh output\n",
    "    temp = torch.where(t > 0, 1, 0)\n",
    "    return temp       "
   ]
  },
  {
   "cell_type": "code",
   "execution_count": null,
   "metadata": {},
   "outputs": [],
   "source": [
    "class Neural_Network:\n",
    "    def __init__(self, input_size=784, output_size=10, hidden_size=6):\n",
    "        # parameters\n",
    "        self.inputSize = input_size \n",
    "        self.outputSize = output_size\n",
    "        self.hiddenSize = hidden_size\n",
    "        \n",
    "        # weights\n",
    "        self.W1 = torch.randn(self.inputSize, self.hiddenSize)\n",
    "        self.b1 = torch.zeros(self.hiddenSize) \n",
    "        \n",
    "        self.W2 = torch.randn(self.hiddenSize, self.outputSize)\n",
    "        self.b2 = torch.zeros(self.outputSize)\n",
    "        \n",
    "    def forward(self, X):\n",
    "        self.z1 = torch.matmul(X, self.W1) + self.b1\n",
    "        self.h = ReLu(self.z1) \n",
    "        self.z2 = torch.matmul(self.h, self.W2) + self.b2\n",
    "        return sigmoid(self.z2) # need to change to softmax\n",
    "\n",
    "    \n",
    "    def backward(self, X, y, y_hat, lr=.1):\n",
    "        \n",
    "        batch_size = y.size(0)\n",
    "        dl_dz2 = (1/batch_size)*(y_hat - y)  \n",
    "\n",
    "        dl_dh = torch.matmul(dl_dz2, torch.t(self.W2))\n",
    "        dl_dz1 = dl_dh * ReLuPrime(self.h)\n",
    "        \n",
    "        self.W1 -= lr*torch.matmul(torch.t(X), dl_dz1)\n",
    "        self.b1 -= lr*torch.matmul(torch.t(dl_dz1), torch.ones(batch_size))\n",
    "        self.W2 -= lr*torch.matmul(torch.t(self.h), dl_dz2)\n",
    "        self.b2 -= lr*torch.matmul(torch.t(dl_dz2), torch.ones(batch_size))\n",
    "    \n",
    "        \n",
    "    def train(self, X, y):\n",
    "        # forward + backward pass for training\n",
    "        o = self.forward(X)\n",
    "        self.backward(X, y, o)"
   ]
  },
  {
   "cell_type": "code",
   "execution_count": 1,
   "metadata": {},
   "outputs": [],
   "source": [
    "def score_function(out , trues):\n",
    "    # need to get all the samples together and not batch only\n",
    "    test_correct = float((predictions == labels).sum())\n",
    "    return test_correct\n"
   ]
  },
  {
   "cell_type": "code",
   "execution_count": null,
   "metadata": {},
   "outputs": [],
   "source": [
    "class cust_cross_entropy_loss(object):\n",
    "    def __init__(out, y):\n",
    "        total_loss = 0\n",
    "        for i in range(len(out)):\n",
    "            total_loss += -(out[i] * (log2(y[i])))\n",
    "        return total loss\n",
    "        \n",
    "    def backward()\n",
    "\n",
    "\n",
    "class cust_Adam(object):\n",
    "    def __init__(self, parameters, lr):\n",
    "        \n",
    "    def zero_grad():\n",
    "        \n",
    "    def step():\n",
    "        "
   ]
  },
  {
   "cell_type": "code",
   "execution_count": null,
   "metadata": {},
   "outputs": [],
   "source": [
    "def grad(self):\n",
    "    \"\"\"\n",
    "    Calculates the gradient of the Hinge-loss w.r.t. parameters.\n",
    "    :return: The gradient, of shape (D, C).\n",
    "\n",
    "    \"\"\"\n",
    "\n",
    "    grad = None\n",
    "    loss_matrix_shape = self.grad_ctx[\"loss_matrix\"].shape\n",
    "    ones_matrix = torch.ones(loss_matrix_shape)\n",
    "    loss_matrix = torch.where(self.grad_ctx[\"loss_matrix\"] > 0, ones_matrix, self.grad_ctx[\"zero_matrix\"])\n",
    "    temp_x = torch.transpose(self.grad_ctx[\"x\"], 0, 1)\n",
    "    rows_loss = torch.sum(loss_matrix, dim=1)\n",
    "    for i in range(len(self.grad_ctx[\"y\"])):\n",
    "        loss_matrix[i][self.grad_ctx[\"y\"][i]] -= rows_loss[i]\n",
    "    grad = torch.matmul(temp_x,loss_matrix)\n",
    "    grad = grad / len(self.grad_ctx[\"y\"])\n",
    "\n",
    "    return grad"
   ]
  },
  {
   "cell_type": "code",
   "execution_count": null,
   "metadata": {},
   "outputs": [],
   "source": [
    "input_size=784\n",
    "output_size=10\n",
    "hidden_size=6\n",
    "epochs = 50\n",
    "\n",
    "net = Neural_Network(input_size, output_size, hidden_size)\n",
    "torch.manual_seed(1)\n",
    "\n",
    "optimizer = cust_Adam(net.parameters(), lr=0.001) # need to change to cust_Adam\n",
    "for epoch in range(epochs):\n",
    "    for i,(x, y) in enumerate(train_loader):\n",
    "        train_batch = x.view(-1,28*28)\n",
    "        out = net(train_batch)\n",
    "        loss = cust_cross_entropy_loss(out, y) # need to change to cust_cross_entropy\n",
    "        optimizer.zero_grad()\n",
    "        loss.backward()\n",
    "        optimizer.step()\n",
    "        predictions = torch.max(outputs, 1)[1]\n",
    "        train_correct += float((predictions == y).sum())\n",
    "        trin_total += len(y)\n",
    "print(\"acc = \", train_correct / trin_total)\n"
   ]
  },
  {
   "cell_type": "code",
   "execution_count": null,
   "metadata": {},
   "outputs": [],
   "source": [
    "def evaluate_hw1(file_name='model.pkl', batch_size=128):\n",
    "    transform = transforms.Compose([transforms.ToTensor(), transforms.Normalize((0.5,), (0.5,))])\n",
    "    test_dataset = torchvision.datasets.FashionMNIST(root='./data', train=False, transform=transform)\n",
    "    test_loader = torch.utils.data.DataLoader(dataset=test_dataset, batch_size=batch_size, shuffle=False)\n",
    "    device = torch.device(\"cuda\" if torch.cuda.is_available() else \"cpu\")\n",
    "    model = torch.load(file_name)\n",
    "    if isinstance(model, dict):\n",
    "        model = torch.load(file_name)['model']\n",
    "    model.to(device)\n",
    "    model.eval()\n",
    "    test_total = 0\n",
    "    test_correct = 0\n",
    "    with torch.no_grad():\n",
    "        for images, labels in test_loader:\n",
    "            images, labels = images.to(device), labels.to(device)\n",
    "            outputs = model(images.view(-1, 784))\n",
    "            predictions = torch.max(outputs, 1)[1].to(device)\n",
    "            test_correct += float((predictions == labels).sum())\n",
    "            test_total += len(labels)\n",
    "    return float(test_correct/test_total)"
   ]
  },
  {
   "cell_type": "code",
   "execution_count": null,
   "metadata": {},
   "outputs": [],
   "source": [
    "plt.figure(figsize=(12,8))\n",
    "plt.plot(num_layers, norms_sigmoid, label=\"Sigmoid\", linewidth=3)\n",
    "plt.plot(num_layers, norms_relu,  label=\"ReLU\", linewidth=3)\n",
    "\n",
    "\n",
    "plt.legend(fontsize=16)\n",
    "plt.xlabel('num of layers', fontsize=18)\n",
    "plt.ylabel('grad norm', fontsize=16)\n",
    "plt.yscale(\"log\")"
   ]
  },
  {
   "cell_type": "code",
   "execution_count": null,
   "metadata": {},
   "outputs": [],
   "source": [
    "# batch = 40\n",
    "# in_featurs = 20\n",
    "# out_features = 10\n",
    "\n",
    "# X = 2*torch.randn(batch,in_featurs)\n",
    "# W1 = torch.empty(in_featurs,out_features).uniform_(-1,1)\n",
    "# W2 = torch.empty(in_featurs,out_features).uniform_(-math.sqrt(1.0/in_featurs),math.sqrt(1.0/in_featurs))\n",
    "\n",
    "# z1 = torch.matmul(X,W1).view(-1)\n",
    "# z2 = torch.matmul(X,W2).view(-1)\n",
    "\n",
    "# fig,(ax1, ax2) = plt.subplots(1,2, figsize=(15,6))\n",
    "\n",
    "# s1 = sigmoid(z1)\n",
    "# ax1.scatter(z1,s1, s=0.5)\n",
    "# ax1.scatter(z1,sigmoidPrime(s1), s=0.5)\n",
    "\n",
    "# s2 = sigmoid(z2)\n",
    "# ax2.scatter(z2, s2, s=0.5)\n",
    "# ax2.scatter(z2,sigmoidPrime(s2), s=0.5)"
   ]
  }
 ],
 "metadata": {
  "kernelspec": {
   "display_name": "matan_env",
   "language": "python",
   "name": "matan_env"
  },
  "language_info": {
   "codemirror_mode": {
    "name": "ipython",
    "version": 3
   },
   "file_extension": ".py",
   "mimetype": "text/x-python",
   "name": "python",
   "nbconvert_exporter": "python",
   "pygments_lexer": "ipython3",
   "version": "3.7.4"
  }
 },
 "nbformat": 4,
 "nbformat_minor": 4
}
