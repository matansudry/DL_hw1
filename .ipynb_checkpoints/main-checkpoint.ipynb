{
 "cells": [
  {
   "cell_type": "code",
   "execution_count": 1,
   "metadata": {},
   "outputs": [],
   "source": [
    "import torch\n",
    "import torch.nn as nn\n",
    "from matplotlib import pyplot as plt  \n",
    "import math\n",
    "import numpy as np\n",
    "import torchvision.datasets as dsets\n",
    "import torchvision.transforms as transforms\n",
    "from evaluate import evaluate_hw1\n",
    "\n",
    "%matplotlib inline\n",
    "%load_ext autoreload\n",
    "%autoreload 2"
   ]
  },
  {
   "cell_type": "markdown",
   "metadata": {},
   "source": [
    "Functions"
   ]
  },
  {
   "cell_type": "code",
   "execution_count": 2,
   "metadata": {},
   "outputs": [],
   "source": [
    "def softmax(X):\n",
    "    e_x = torch.exp(X)\n",
    "    results = e_x / (e_x.sum(axis=1).view(-1,1))\n",
    "    return results    \n",
    "\n",
    "def tanh(t):\n",
    "    return torch.div(torch.exp(t) - torch.exp(-t), torch.exp(t) + torch.exp(-t))\n",
    "\n",
    "def tanhPrime(t):\n",
    "    return 1 - t*t\n",
    "\n",
    "class Neural_Network:\n",
    "    def __init__(self, input_size=28*28, output_size=10, hidden_size=50):\n",
    "        # parameters\n",
    "        self.inputSize = input_size \n",
    "        self.outputSize = output_size\n",
    "        self.hiddenSize = hidden_size\n",
    "        \n",
    "        # weights\n",
    "        self.W1 = (torch.randn(self.inputSize, self.hiddenSize)/10).float()\n",
    "        self.b1 = (torch.zeros(self.hiddenSize)).float()\n",
    "        \n",
    "        self.W2 = (torch.randn(self.hiddenSize, self.outputSize)).float()\n",
    "        self.b2 = (torch.zeros(self.outputSize)).float()\n",
    "        \n",
    "    def forward(self, X):\n",
    "        self.z1 = torch.matmul(X, self.W1) + self.b1\n",
    "        self.h = tanh(self.z1)\n",
    "        self.z2 = torch.matmul(self.h, self.W2) + self.b2\n",
    "        return softmax(self.z2)\n",
    "\n",
    "    \n",
    "    def backward(self, X, y, y_hat, lr=.1):\n",
    "\n",
    "        y_len = y.shape[0]\n",
    "        dl_dz2 = y_hat\n",
    "        dl_dz2[range(y_len),y] -= 1 #cross entropy derivative \n",
    "        dl_dz2 = dl_dz2/y_len\n",
    "        dl_dh = torch.matmul(dl_dz2.float(), torch.t(self.W2).float())\n",
    "        dl_dz1 = dl_dh * tanhPrime(self.h)\n",
    "        \n",
    "        self.W1 -= lr*torch.matmul(torch.t(X), dl_dz1)\n",
    "        self.b1 -= lr*torch.matmul(torch.t(dl_dz1), torch.ones(y_len))\n",
    "        self.W2 -= lr*torch.matmul(torch.t(self.h).float(), dl_dz2.float())\n",
    "        self.b2 -= lr*torch.matmul(torch.t(dl_dz2).float(), torch.ones(y_len).float())\n",
    "    \n",
    "        \n",
    "    def train(self, X, y):\n",
    "        o = self.forward(X)\n",
    "        self.backward(X, y, o, lr=0.01)\n",
    "        \n",
    "def score_function(out , trues):\n",
    "    out = torch.argmax(out, dim=1)\n",
    "    trues = trues.view((-1))\n",
    "    test_correct = out.eq(trues).sum().item()\n",
    "    return test_correct\n",
    "\n",
    "def cross(out, y):\n",
    "    y_len= len(y)\n",
    "    log_like = -torch.log(out[range(y_len),y])\n",
    "    loss = torch.sum(log_like)\n",
    "    return (loss)"
   ]
  },
  {
   "cell_type": "markdown",
   "metadata": {},
   "source": [
    "preprocessing"
   ]
  },
  {
   "cell_type": "code",
   "execution_count": 3,
   "metadata": {},
   "outputs": [],
   "source": [
    "batch_size = 256\n",
    "device = torch.device(\"cuda\" if torch.cuda.is_available() else \"cpu\")\n",
    "transform = transforms.Compose([transforms.ToTensor(), transforms.Normalize((0.1307,), (0.3081,))])\n",
    "train_dataset = dsets.MNIST(root='./data', \n",
    "                            train=True, \n",
    "                            transform=transform,\n",
    "                            download=True,\n",
    "                           )\n",
    "test_dataset = dsets.MNIST(root='./data', \n",
    "                           train=False, \n",
    "                           transform=transform,\n",
    "                          )\n",
    "train_loader = torch.utils.data.DataLoader(dataset=train_dataset, \n",
    "                                           batch_size=batch_size, \n",
    "                                           shuffle=True)\n",
    "test_loader = torch.utils.data.DataLoader(dataset=test_dataset, \n",
    "                                          batch_size=batch_size, \n",
    "                                          shuffle=False)"
   ]
  },
  {
   "cell_type": "markdown",
   "metadata": {},
   "source": [
    "Train"
   ]
  },
  {
   "cell_type": "code",
   "execution_count": 6,
   "metadata": {},
   "outputs": [
    {
     "name": "stdout",
     "output_type": "stream",
     "text": [
      "Epoch= 0 | Loss= 1.3282 | ACC= 71.66 %\n",
      "Epoch= 1 | Loss= 0.5747 | ACC= 85.22 %\n",
      "Epoch= 2 | Loss= 0.4596 | ACC= 87.94 %\n",
      "Epoch= 3 | Loss= 0.3992 | ACC= 89.43 %\n",
      "Epoch= 4 | Loss= 0.3596 | ACC= 90.38 %\n",
      "Epoch= 5 | Loss= 0.3304 | ACC= 91.12 %\n",
      "Epoch= 6 | Loss= 0.3079 | ACC= 91.63 %\n",
      "Epoch= 7 | Loss= 0.2895 | ACC= 92.15 %\n",
      "Epoch= 8 | Loss= 0.2742 | ACC= 92.47 %\n",
      "Epoch= 9 | Loss= 0.2611 | ACC= 92.74 %\n"
     ]
    }
   ],
   "source": [
    "num_epochs = 10\n",
    "loss = nn.CrossEntropyLoss()\n",
    "NN = Neural_Network()\n",
    "for epoch in range(num_epochs):\n",
    "    total_loss = 0\n",
    "    n_sampels = 0\n",
    "    n_correct = 0\n",
    "    for i,(x, y) in enumerate(train_loader):\n",
    "        x = x.view(-1,28*28)\n",
    "        x = x.float()\n",
    "        NN.train(x, y)\n",
    "        out = NN.forward(x)\n",
    "        total_loss += cross(out, y).item()\n",
    "        n_sampels += len(y)\n",
    "        n_correct += score_function(out , y)\n",
    "    print(\"Epoch=\", epoch+1, \"| Loss=\", \"{:.4f}\".format(total_loss/n_sampels), \"| ACC=\", \"{:.2f}\".format(n_correct/n_sampels*100),\"%\")"
   ]
  },
  {
   "cell_type": "markdown",
   "metadata": {},
   "source": [
    "Test"
   ]
  },
  {
   "cell_type": "code",
   "execution_count": 18,
   "metadata": {},
   "outputs": [
    {
     "name": "stderr",
     "output_type": "stream",
     "text": [
      "/home/matansudry/miniconda3/envs/matan_env/lib/python3.7/site-packages/ipykernel_launcher.py:3: UserWarning: To copy construct from a tensor, it is recommended to use sourceTensor.clone().detach() or sourceTensor.clone().detach().requires_grad_(True), rather than torch.tensor(sourceTensor).\n",
      "  This is separate from the ipykernel package so we can avoid doing imports until\n"
     ]
    },
    {
     "name": "stdout",
     "output_type": "stream",
     "text": [
      "ACC in Test =  91.93 %\n"
     ]
    }
   ],
   "source": [
    "n_sampels = 0\n",
    "n_correct = 0\n",
    "for i,(x, y) in enumerate(test_loader):\n",
    "    x = x.view(-1,28*28)\n",
    "    x = x.float()\n",
    "    y = y.view(-1,1)\n",
    "    out = NN.forward(x)\n",
    "    total_loss += cross(out, y).item()\n",
    "    n_sampels += len(y)\n",
    "    n_correct += score_function(out , y)\n",
    "print(\"ACC in Test = \", \"{:.2f}\".format(n_correct/n_sampels*100),\"%\")"
   ]
  },
  {
   "cell_type": "code",
   "execution_count": 9,
   "metadata": {},
   "outputs": [],
   "source": [
    "torch.save(NN, \"model.pkl\")\n",
    "NN = torch.load(\"model.pkl\")"
   ]
  },
  {
   "cell_type": "code",
   "execution_count": null,
   "metadata": {},
   "outputs": [],
   "source": []
  }
 ],
 "metadata": {
  "kernelspec": {
   "display_name": "matan_env",
   "language": "python",
   "name": "matan_env"
  },
  "language_info": {
   "codemirror_mode": {
    "name": "ipython",
    "version": 3
   },
   "file_extension": ".py",
   "mimetype": "text/x-python",
   "name": "python",
   "nbconvert_exporter": "python",
   "pygments_lexer": "ipython3",
   "version": "3.7.4"
  }
 },
 "nbformat": 4,
 "nbformat_minor": 4
}
